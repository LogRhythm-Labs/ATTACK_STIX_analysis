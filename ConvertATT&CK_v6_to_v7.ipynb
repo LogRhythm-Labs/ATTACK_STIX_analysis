{
 "metadata": {
  "language_info": {
   "codemirror_mode": {
    "name": "ipython",
    "version": 3
   },
   "file_extension": ".py",
   "mimetype": "text/x-python",
   "name": "python",
   "nbconvert_exporter": "python",
   "pygments_lexer": "ipython3",
   "version": "3.7.3-final"
  },
  "orig_nbformat": 2,
  "kernelspec": {
   "name": "Python 3.7.3 64-bit",
   "display_name": "Python 3.7.3 64-bit",
   "metadata": {
    "interpreter": {
     "hash": "e534e48711db4d1e1c48977d0d14ff85b1f16d41bcc4fdfd88268a329b3c9d66"
    }
   }
  }
 },
 "nbformat": 4,
 "nbformat_minor": 2,
 "cells": [
  {
   "source": [
    "# Convert ATT&CK 6.x techniques to 7.x techniques\n",
    "### Input: file with list of v6 MITRE techniques in Txxxx format\n",
    "### Check if any of the techniques had been replaced by 7.x techniques\n",
    "### Output a list of attack pattern ids for use by further analysis of MITRE in STIX format\n",
    "\n"
   ],
   "cell_type": "markdown",
   "metadata": {}
  },
  {
   "source": [
    "### Import required Python libraries and define input and output file paths"
   ],
   "cell_type": "markdown",
   "metadata": {}
  },
  {
   "cell_type": "code",
   "execution_count": null,
   "metadata": {},
   "outputs": [],
   "source": [
    "from attackcti import attack_client\n",
    "import json\n",
    "\n",
    "inputFile = 'v6file' #enter the full path and filename of text file containing version 6 ATT&CK technique numbers, line separated, including the T (eg. \"T1033\")\n",
    "outputFile = 'v7file' #enter the full path and filename to which the version 7 techniques should be written. File does not need to exist.\n"
   ]
  },
  {
   "source": [
    "### Load the MITRE ATT&CK framework into the all_enterprise variable"
   ],
   "cell_type": "markdown",
   "metadata": {}
  },
  {
   "cell_type": "code",
   "execution_count": null,
   "metadata": {
    "tags": []
   },
   "outputs": [],
   "source": [
    "lift = attack_client()\n",
    "%time all_enterprise = lift.get_all_enterprise()"
   ]
  },
  {
   "source": [
    "### Load list of techniques "
   ],
   "cell_type": "markdown",
   "metadata": {}
  },
  {
   "cell_type": "code",
   "execution_count": null,
   "metadata": {},
   "outputs": [],
   "source": [
    "techniques = []\n",
    "techniques = [line.rstrip() for line in open(inputFile)]\n"
   ]
  },
  {
   "source": [
    "### List techniques "
   ],
   "cell_type": "markdown",
   "metadata": {}
  },
  {
   "cell_type": "code",
   "execution_count": null,
   "metadata": {
    "tags": []
   },
   "outputs": [],
   "source": [
    "print(techniques)"
   ]
  },
  {
   "source": [
    "### Convert the list of technique IDs to attack pattern IDs. For each technique in the list, check if it has been revoked and replaced by a newer techniqueID. If so, look up the new attack pattern ID."
   ],
   "cell_type": "markdown",
   "metadata": {}
  },
  {
   "cell_type": "code",
   "execution_count": null,
   "metadata": {},
   "outputs": [],
   "source": [
    "# note that the source_ref is replaced by the target_ref\n",
    "attackIDs = []\n",
    "for technique in techniques:\n",
    "    for t in all_enterprise['techniques']:\n",
    "        if t['external_references'][0]['external_id'] == technique:\n",
    "            if t['revoked'] == True: #note that this key doesn't exist if the technique wasn't replaced\n",
    "                for r in all_enterprise['relationships']:\n",
    "                    if r['relationship_type'] == 'revoked-by' and r['source_ref'] == t['id']:\n",
    "                        attackIDs.append(r['target_ref'])\n",
    "            else:\n",
    "                attackIDs.append(t['id'])\n",
    "    \n"
   ]
  },
  {
   "source": [
    "### Output a list of the new techniqueID numbers (for manual verification)"
   ],
   "cell_type": "markdown",
   "metadata": {}
  },
  {
   "cell_type": "code",
   "execution_count": null,
   "metadata": {
    "tags": []
   },
   "outputs": [],
   "source": [
    "newTechniques = []\n",
    "for i in attackIDs:\n",
    "    for t in all_enterprise['techniques']:\n",
    "        if t['id'] == i:\n",
    "            newTechniques.append(t['external_references'][0]['external_id'])"
   ]
  },
  {
   "cell_type": "code",
   "execution_count": null,
   "metadata": {
    "tags": []
   },
   "outputs": [],
   "source": [
    "print(newTechniques)"
   ]
  },
  {
   "source": [
    "### Write out the v7 techniques to a file"
   ],
   "cell_type": "markdown",
   "metadata": {}
  },
  {
   "cell_type": "code",
   "execution_count": null,
   "metadata": {},
   "outputs": [],
   "source": [
    "f = open(outputFile, 'a')\n",
    "for t in newTechniques:\n",
    "    f.write(t+'\\n')\n",
    "f.close()\n"
   ]
  },
  {
   "cell_type": "code",
   "execution_count": null,
   "metadata": {},
   "outputs": [],
   "source": []
  }
 ]
}
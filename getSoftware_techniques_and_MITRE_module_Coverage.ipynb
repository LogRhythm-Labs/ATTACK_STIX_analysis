{
 "metadata": {
  "language_info": {
   "codemirror_mode": {
    "name": "ipython",
    "version": 3
   },
   "file_extension": ".py",
   "mimetype": "text/x-python",
   "name": "python",
   "nbconvert_exporter": "python",
   "pygments_lexer": "ipython3",
   "version": "3.7.3"
  },
  "orig_nbformat": 2,
  "kernelspec": {
   "name": "python3",
   "display_name": "Python 3.7.3 64-bit"
  },
  "interpreter": {
   "hash": "aee8b7b246df8f9039afb4144a1f6fd8d2ca17a180786b69acc140d282b71a49"
  }
 },
 "nbformat": 4,
 "nbformat_minor": 2,
 "cells": [
  {
   "cell_type": "markdown",
   "source": [
    "# Gather MITRE ATT&CK software data for analysis\n",
    "### Input: line-separated text file with list of MITRE ATT&CK software IDs (e.g. S0496)\n",
    "### Output: Excel file with three tabs: Datasource requirements, Platform requirements and Tactic \n"
   ],
   "metadata": {}
  },
  {
   "cell_type": "markdown",
   "source": [
    "### Import required libraries. Define filepath."
   ],
   "metadata": {}
  },
  {
   "cell_type": "code",
   "execution_count": null,
   "source": [
    "from attackcti import attack_client\n",
    "import json\n",
    "import numpy\n",
    "import pandas as pd\n",
    "import numpy as np\n",
    "import xlsxwriter\n",
    "\n",
    "inputFile = '/Users/dan.kaiser/OneDrive - LogRhythm, Inc/Documents/ransomware_module/ransom_SoftwareIDs' #Enter the full path and file name of the text file containing the MITRE Software items you would like analyzed\n",
    "MITREModuleFile = '/Users/dan.kaiser/OneDrive - LogRhythm, Inc/Documents/ransomware_module/MITREModuleIDs' #Enter the full path and file name of the text file containing the MITRE technique IDs that have rules in the LR MITRE KB Module\n",
    "outputFile = '/Users/dan.kaiser/OneDrive - LogRhythm, Inc/Documents/ransomware_module/technique_coverage.xlsx' ##Enter the full path and file name of the Excel (xlsx) file that you would like as output of this script"
   ],
   "outputs": [],
   "metadata": {}
  },
  {
   "cell_type": "markdown",
   "source": [
    "### Load the MITRE ATT&CK Enterprise framework"
   ],
   "metadata": {}
  },
  {
   "cell_type": "code",
   "execution_count": null,
   "source": [
    "lift = attack_client()\n",
    "%time all_enterprise = lift.get_all_enterprise()"
   ],
   "outputs": [],
   "metadata": {
    "tags": []
   }
  },
  {
   "cell_type": "markdown",
   "source": [
    "### Read list of techniques from a file"
   ],
   "metadata": {}
  },
  {
   "cell_type": "code",
   "execution_count": null,
   "source": [
    "Softwares = []\n",
    "Softwares = [line.rstrip() for line in open(inputFile)]\n",
    "MITRERules = []\n",
    "MITRERules = [line.rstrip() for line in open(MITREModuleFile)]\n"
   ],
   "outputs": [],
   "metadata": {}
  },
  {
   "cell_type": "code",
   "execution_count": null,
   "source": [
    "for software in Softwares:\n",
    "    print(software)"
   ],
   "outputs": [],
   "metadata": {
    "tags": []
   }
  },
  {
   "cell_type": "code",
   "execution_count": null,
   "source": [
    "for rule in MITRERules:\n",
    "    print(rule)"
   ],
   "outputs": [],
   "metadata": {}
  },
  {
   "cell_type": "markdown",
   "source": [
    "### Generate a list of techniques for each software"
   ],
   "metadata": {}
  },
  {
   "cell_type": "code",
   "execution_count": null,
   "source": [
    "techniqueAnalysis = []\n",
    "s = []\n",
    "for software in Softwares:\n",
    "    for s in all_enterprise['malware']:\n",
    "        if s['external_references'][0]['external_id'] == software:\n",
    "                malwareID = s['id']\n",
    "                for relationship in all_enterprise['relationships']:\n",
    "                    techniqueListItem = {} \n",
    "                    if relationship['source_ref'] == malwareID:\n",
    "                        techniqueListItem['MalwareName'] = s['name'] \n",
    "                        techniqueListItem['MalwareNumber'] = software\n",
    "                        techniqueListItem['techniqueID'] = relationship['target_ref']\n",
    "                        for t in all_enterprise['techniques']:\n",
    "                            if t['id'] == relationship['target_ref']:\n",
    "                                techniqueListItem['techniqueNumber'] = t['external_references'][0]['external_id']\n",
    "                                techniqueListItem['techniqueName'] = t['name']\n",
    "                                for rule in MITRERules:\n",
    "                                    if rule == t['external_references'][0]['external_id']:\n",
    "                                        techniqueListItem['DetectionAvailable'] = 'yes'\n",
    "                                        break\n",
    "                                    else:\n",
    "                                        techniqueListItem['DetectionAvailable'] = 'no'\n",
    "                        techniqueAnalysis.append(techniqueListItem)\n",
    "print(techniqueAnalysis)"
   ],
   "outputs": [],
   "metadata": {}
  },
  {
   "cell_type": "markdown",
   "source": [
    "### Load the tactic list into a dataframe"
   ],
   "metadata": {}
  },
  {
   "cell_type": "code",
   "execution_count": null,
   "source": [
    "techniques = pd.DataFrame(techniqueAnalysis)"
   ],
   "outputs": [],
   "metadata": {
    "tags": []
   }
  },
  {
   "cell_type": "markdown",
   "source": [
    "### Confirm the dataframe is populated by reviewing per-technique counts"
   ],
   "metadata": {}
  },
  {
   "cell_type": "code",
   "execution_count": null,
   "source": [
    "techniques['techniqueNumber'].value_counts()\n"
   ],
   "outputs": [],
   "metadata": {}
  },
  {
   "cell_type": "markdown",
   "source": [
    "### Write out the techniques dataframes into an Excel workbook"
   ],
   "metadata": {}
  },
  {
   "cell_type": "code",
   "execution_count": null,
   "source": [
    "with pd.ExcelWriter(outputFile) as writer:\n",
    "    techniques.to_excel(writer, sheet_name='Techniques')\n"
   ],
   "outputs": [],
   "metadata": {}
  },
  {
   "cell_type": "code",
   "execution_count": null,
   "source": [],
   "outputs": [],
   "metadata": {}
  }
 ]
}
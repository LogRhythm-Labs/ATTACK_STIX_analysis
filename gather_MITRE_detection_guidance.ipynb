{
 "metadata": {
  "language_info": {
   "codemirror_mode": {
    "name": "ipython",
    "version": 3
   },
   "file_extension": ".py",
   "mimetype": "text/x-python",
   "name": "python",
   "nbconvert_exporter": "python",
   "pygments_lexer": "ipython3",
   "version": "3.7.3"
  },
  "orig_nbformat": 2,
  "kernelspec": {
   "name": "python3",
   "display_name": "Python 3.7.3 64-bit"
  },
  "interpreter": {
   "hash": "aee8b7b246df8f9039afb4144a1f6fd8d2ca17a180786b69acc140d282b71a49"
  }
 },
 "nbformat": 4,
 "nbformat_minor": 2,
 "cells": [
  {
   "cell_type": "markdown",
   "source": [
    "# Gather MITRE ATT&CK detection guidance for techniques\n",
    "### Input: line-separated text file with list of MITRE ATT&CK technique IDs\n",
    "### Output: Excel file technique name, number and detection guidance\n"
   ],
   "metadata": {}
  },
  {
   "cell_type": "markdown",
   "source": [
    "### Import required libraries. Define filepath."
   ],
   "metadata": {}
  },
  {
   "cell_type": "code",
   "execution_count": null,
   "source": [
    "from attackcti import attack_client\n",
    "import json\n",
    "import numpy\n",
    "import pandas as pd\n",
    "import numpy as np\n",
    "import xlsxwriter\n",
    "\n",
    "inputFile = '/Users/dan.kaiser/OneDrive - LogRhythm, Inc/Documents/ransomware_module/RyukTechniques' #Enter the full path and file name of the text file containing the MITRE Software items you would like analyzed\n",
    "outputFile = '/Users/dan.kaiser/OneDrive - LogRhythm, Inc/Documents/ransomware_module/RyukDetectionGuidance.xls' ##Enter the full path and file name of the Excel (xlsx) file that you would like as output of this script"
   ],
   "outputs": [],
   "metadata": {}
  },
  {
   "cell_type": "markdown",
   "source": [
    "### Load the MITRE ATT&CK Enterprise framework"
   ],
   "metadata": {}
  },
  {
   "cell_type": "code",
   "execution_count": null,
   "source": [
    "lift = attack_client()\n",
    "%time all_enterprise = lift.get_all_enterprise()"
   ],
   "outputs": [],
   "metadata": {
    "tags": []
   }
  },
  {
   "cell_type": "markdown",
   "source": [
    "### Read list of techniques from a file"
   ],
   "metadata": {}
  },
  {
   "cell_type": "code",
   "execution_count": null,
   "source": [
    "techniques = []\n",
    "techniques = [line.rstrip() for line in open(inputFile)]"
   ],
   "outputs": [],
   "metadata": {}
  },
  {
   "cell_type": "code",
   "execution_count": null,
   "source": [
    "for technique in techniques:\n",
    "    print(technique)"
   ],
   "outputs": [],
   "metadata": {
    "tags": []
   }
  },
  {
   "cell_type": "markdown",
   "source": [
    "### Generate a list of techniques for each software"
   ],
   "metadata": {}
  },
  {
   "cell_type": "code",
   "execution_count": null,
   "source": [
    "techniqueAnalysis = []\n",
    "for technique in techniques:\n",
    "    for t in all_enterprise['techniques']:\n",
    "        techniqueListItem = {}\n",
    "        if t['external_references'][0]['external_id'] == technique:\n",
    "            techniqueListItem['techniqueNumber'] = technique\n",
    "            techniqueListItem['techniqueName'] = t['name']\n",
    "            techniqueListItem['DetectionGuidance'] = t['x_mitre_detection']\n",
    "            techniqueAnalysis.append(techniqueListItem)\n",
    "print(techniqueAnalysis)"
   ],
   "outputs": [],
   "metadata": {}
  },
  {
   "cell_type": "markdown",
   "source": [
    "### Load the techique list into a dataframe"
   ],
   "metadata": {}
  },
  {
   "cell_type": "code",
   "execution_count": null,
   "source": [
    "techniques = pd.DataFrame(techniqueAnalysis)"
   ],
   "outputs": [],
   "metadata": {
    "tags": []
   }
  },
  {
   "cell_type": "markdown",
   "source": [
    "### Confirm the dataframe is populated by reviewing per-tactic counts"
   ],
   "metadata": {}
  },
  {
   "cell_type": "code",
   "execution_count": null,
   "source": [
    "techniques['techniqueNumber'].value_counts()\n"
   ],
   "outputs": [],
   "metadata": {}
  },
  {
   "cell_type": "markdown",
   "source": [
    "### Write out the techniques dataframes into an Excel workbook"
   ],
   "metadata": {}
  },
  {
   "cell_type": "code",
   "execution_count": null,
   "source": [
    "with pd.ExcelWriter(outputFile) as writer:\n",
    "    techniques.to_excel(writer, sheet_name='Techniques')\n"
   ],
   "outputs": [],
   "metadata": {}
  }
 ]
}
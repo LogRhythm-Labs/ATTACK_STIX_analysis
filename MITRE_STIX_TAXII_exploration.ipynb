{
 "metadata": {
  "language_info": {
   "codemirror_mode": {
    "name": "ipython",
    "version": 3
   },
   "file_extension": ".py",
   "mimetype": "text/x-python",
   "name": "python",
   "nbconvert_exporter": "python",
   "pygments_lexer": "ipython3",
   "version": "3.7.3-final"
  },
  "orig_nbformat": 2,
  "kernelspec": {
   "name": "Python 3.7.3 64-bit",
   "display_name": "Python 3.7.3 64-bit",
   "metadata": {
    "interpreter": {
     "hash": "e534e48711db4d1e1c48977d0d14ff85b1f16d41bcc4fdfd88268a329b3c9d66"
    }
   }
  }
 },
 "nbformat": 4,
 "nbformat_minor": 2,
 "cells": [
  {
   "source": [
    "# MITRE Enterprise framework exploration\n",
    "### via STIX/TAXII \n"
   ],
   "cell_type": "markdown",
   "metadata": {}
  },
  {
   "source": [
    "### Start by importing the required Python libraries"
   ],
   "cell_type": "markdown",
   "metadata": {}
  },
  {
   "cell_type": "code",
   "execution_count": null,
   "metadata": {},
   "outputs": [],
   "source": [
    "from attackcti import attack_client\n",
    "import requests\n",
    "import json\n",
    "import pandas \n",
    "import numpy\n",
    "\n"
   ]
  },
  {
   "source": [
    "### Load the MITRE ATT&CK framework into the all_enterprise variable"
   ],
   "cell_type": "markdown",
   "metadata": {}
  },
  {
   "cell_type": "code",
   "execution_count": null,
   "metadata": {
    "tags": []
   },
   "outputs": [],
   "source": [
    "lift = attack_client()\n",
    "%time all_enterprise = lift.get_all_enterprise()"
   ]
  },
  {
   "source": [
    "### Observe that the data is a Python dictionary"
   ],
   "cell_type": "markdown",
   "metadata": {}
  },
  {
   "cell_type": "code",
   "execution_count": null,
   "metadata": {},
   "outputs": [],
   "source": [
    "type(all_enterprise)"
   ]
  },
  {
   "source": [
    "### Review the dictionary keys to see the STIX objects:"
   ],
   "cell_type": "markdown",
   "metadata": {}
  },
  {
   "cell_type": "code",
   "execution_count": null,
   "metadata": {
    "tags": []
   },
   "outputs": [],
   "source": [
    "print(all_enterprise.keys())"
   ]
  },
  {
   "source": [
    "### Drill into an object. In this case the first technique, which is the 0th item of a Python list.\n",
    "### Note the type of \"attack pattern\" and the id:"
   ],
   "cell_type": "markdown",
   "metadata": {}
  },
  {
   "cell_type": "code",
   "execution_count": null,
   "metadata": {
    "tags": []
   },
   "outputs": [],
   "source": [
    "print(all_enterprise['techniques'][0])"
   ]
  },
  {
   "source": [
    "### Similarly let's take a look at an APT group. Take note of the type (intrusion-set) and the id:"
   ],
   "cell_type": "markdown",
   "metadata": {}
  },
  {
   "cell_type": "code",
   "execution_count": null,
   "metadata": {
    "tags": []
   },
   "outputs": [],
   "source": [
    "print(all_enterprise['groups'][0])"
   ]
  },
  {
   "source": [
    "### Techniques, Groups and Software are tied together with Relationships.  "
   ],
   "cell_type": "markdown",
   "metadata": {}
  },
  {
   "cell_type": "code",
   "execution_count": null,
   "metadata": {
    "tags": []
   },
   "outputs": [],
   "source": [
    "print(all_enterprise['relationships'][0])"
   ]
  },
  {
   "source": [
    "### Review the different types of relationships by iterating through them and reviewing the distinct values"
   ],
   "cell_type": "markdown",
   "metadata": {}
  },
  {
   "cell_type": "code",
   "execution_count": null,
   "metadata": {
    "tags": []
   },
   "outputs": [],
   "source": [
    "relationshipTypes = []\n",
    "for relationship in all_enterprise['relationships']:\n",
    "    relationshipTypes.append(relationship['relationship_type'])\n",
    "set_relationshipTypes = set(relationshipTypes)\n",
    "print(set_relationshipTypes)"
   ]
  },
  {
   "cell_type": "code",
   "execution_count": null,
   "metadata": {},
   "outputs": [],
   "source": []
  }
 ]
}
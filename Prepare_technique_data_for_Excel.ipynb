{
 "metadata": {
  "language_info": {
   "codemirror_mode": {
    "name": "ipython",
    "version": 3
   },
   "file_extension": ".py",
   "mimetype": "text/x-python",
   "name": "python",
   "nbconvert_exporter": "python",
   "pygments_lexer": "ipython3",
   "version": "3.7.3"
  },
  "orig_nbformat": 2,
  "kernelspec": {
   "name": "python3",
   "display_name": "Python 3.7.3 64-bit"
  },
  "interpreter": {
   "hash": "aee8b7b246df8f9039afb4144a1f6fd8d2ca17a180786b69acc140d282b71a49"
  }
 },
 "nbformat": 4,
 "nbformat_minor": 2,
 "cells": [
  {
   "cell_type": "markdown",
   "source": [
    "# Gather MITRE ATT&CK technique data for analysis\n",
    "### Input: line-separated text file with list of MITRE ATT&CK technique IDs (e.g. T1078)\n",
    "### Output: Excel file with three tabs: Datasource requirements, Platform requirements and Tactic \n"
   ],
   "metadata": {}
  },
  {
   "cell_type": "markdown",
   "source": [
    "### Import required libraries. Define filepath."
   ],
   "metadata": {}
  },
  {
   "cell_type": "code",
   "execution_count": null,
   "source": [
    "from attackcti import attack_client\n",
    "import json\n",
    "import numpy\n",
    "import pandas as pd\n",
    "import numpy as np\n",
    "import xlsxwriter\n",
    "\n",
    "inputFile = 'techniques' #Enter the full path and file name of the text file containing the MITRE techniques you would like analyzed\n",
    "outputFile = 'output.xlsx' ##Enter the full path and file name of the Excel (xlsx) file that you would like as output of this script"
   ],
   "outputs": [],
   "metadata": {}
  },
  {
   "cell_type": "markdown",
   "source": [
    "### Load the MITRE ATT&CK Enterprise framework"
   ],
   "metadata": {}
  },
  {
   "cell_type": "code",
   "execution_count": null,
   "source": [
    "lift = attack_client()\n",
    "%time all_enterprise = lift.get_all_enterprise()"
   ],
   "outputs": [],
   "metadata": {
    "tags": []
   }
  },
  {
   "cell_type": "markdown",
   "source": [
    "### Read list of techniques from a file"
   ],
   "metadata": {}
  },
  {
   "cell_type": "code",
   "execution_count": null,
   "source": [
    "techniques = []\n",
    "techniques = [line.rstrip() for line in open(inputFile)]"
   ],
   "outputs": [],
   "metadata": {}
  },
  {
   "cell_type": "code",
   "execution_count": null,
   "source": [
    "print(techniques)"
   ],
   "outputs": [],
   "metadata": {
    "tags": []
   }
  },
  {
   "cell_type": "markdown",
   "source": [
    "### Generate a list of Datasource requirements for each technique"
   ],
   "metadata": {}
  },
  {
   "cell_type": "code",
   "execution_count": null,
   "source": [
    "dataSourceAnalysis = []\n",
    "for technique in techniques:\n",
    "    for t in all_enterprise['techniques']:\n",
    "        if t['external_references'][0]['external_id'] == technique:\n",
    "                for source in t['x_mitre_data_sources']:\n",
    "                    techniqueListItem = {} \n",
    "                    techniqueListItem['ID'] = t['external_references'][0]['external_id']\n",
    "                    techniqueListItem['Name'] = t['name']\n",
    "                    techniqueListItem['DataSource'] = source\n",
    "                    dataSourceAnalysis.append(techniqueListItem)"
   ],
   "outputs": [],
   "metadata": {}
  },
  {
   "cell_type": "markdown",
   "source": [
    "### Load the list of datasources into a dataframe"
   ],
   "metadata": {}
  },
  {
   "cell_type": "code",
   "execution_count": null,
   "source": [
    "dataSources = pd.DataFrame(dataSourceAnalysis)"
   ],
   "outputs": [],
   "metadata": {}
  },
  {
   "cell_type": "markdown",
   "source": [
    "### Verify that dataframe is populated by reviewing counts of datasources"
   ],
   "metadata": {}
  },
  {
   "cell_type": "code",
   "execution_count": null,
   "source": [
    "pd.DataFrame(dataSourceAnalysis)"
   ],
   "outputs": [],
   "metadata": {}
  },
  {
   "cell_type": "code",
   "execution_count": null,
   "source": [
    "dataSources['DataSource'].value_counts()\n"
   ],
   "outputs": [],
   "metadata": {}
  },
  {
   "cell_type": "markdown",
   "source": [
    "### Generate a list of tactics for each technique"
   ],
   "metadata": {}
  },
  {
   "cell_type": "code",
   "execution_count": null,
   "source": [
    "tacticAnalysis = []\n",
    "for technique in techniques:\n",
    "    for t in all_enterprise['techniques']:\n",
    "        if t['external_references'][0]['external_id'] == technique:\n",
    "                for tactic in t['kill_chain_phases']:\n",
    "                    techniqueListItem = {} \n",
    "                    techniqueListItem['ID'] = t['external_references'][0]['external_id']\n",
    "                    techniqueListItem['Name'] = t['name']\n",
    "                    techniqueListItem['Tactic'] = tactic['phase_name']\n",
    "                    tacticAnalysis.append(techniqueListItem)"
   ],
   "outputs": [],
   "metadata": {}
  },
  {
   "cell_type": "markdown",
   "source": [
    "### Load the tactic list into a dataframe"
   ],
   "metadata": {}
  },
  {
   "cell_type": "code",
   "execution_count": null,
   "source": [
    "tactics = pd.DataFrame(tacticAnalysis)"
   ],
   "outputs": [],
   "metadata": {
    "tags": []
   }
  },
  {
   "cell_type": "markdown",
   "source": [
    "### Confirm the dataframe is populated by reviewing per-tactic counts"
   ],
   "metadata": {}
  },
  {
   "cell_type": "code",
   "execution_count": null,
   "source": [
    "tactics['Tactic'].value_counts()\n"
   ],
   "outputs": [],
   "metadata": {}
  },
  {
   "cell_type": "markdown",
   "source": [
    "### Generate a list of platform requirements for each technique"
   ],
   "metadata": {}
  },
  {
   "cell_type": "code",
   "execution_count": null,
   "source": [
    "platformAnalysis = []\n",
    "for technique in techniques:\n",
    "    for t in all_enterprise['techniques']:\n",
    "        if t['external_references'][0]['external_id'] == technique:\n",
    "                for platform in t['x_mitre_platforms']:\n",
    "                    techniqueListItem = {} \n",
    "                    techniqueListItem['ID'] = t['external_references'][0]['external_id']\n",
    "                    techniqueListItem['Name'] = t['name']\n",
    "                    techniqueListItem['Platform'] = platform\n",
    "                    platformAnalysis.append(techniqueListItem)"
   ],
   "outputs": [],
   "metadata": {}
  },
  {
   "cell_type": "markdown",
   "source": [
    "### Load the platforms list into a dataframe"
   ],
   "metadata": {}
  },
  {
   "cell_type": "code",
   "execution_count": null,
   "source": [
    "platforms = pd.DataFrame(platformAnalysis)"
   ],
   "outputs": [],
   "metadata": {}
  },
  {
   "cell_type": "markdown",
   "source": [
    "### Confirm the dataframe is populated by reviewing the per-platform count"
   ],
   "metadata": {}
  },
  {
   "cell_type": "code",
   "execution_count": null,
   "source": [
    "platforms['Platform'].value_counts()"
   ],
   "outputs": [],
   "metadata": {}
  },
  {
   "cell_type": "markdown",
   "source": [
    "### Write out the Datasource, Tactic and Platforms dataframes into an Excel workbook"
   ],
   "metadata": {}
  },
  {
   "cell_type": "code",
   "execution_count": null,
   "source": [
    "with pd.ExcelWriter(outputFile) as writer:\n",
    "    dataSources.to_excel(writer, sheet_name='Data Sources')\n",
    "    tactics.to_excel(writer, sheet_name='Tactics')\n",
    "    platforms.to_excel(writer, sheet_name='Platforms')"
   ],
   "outputs": [],
   "metadata": {}
  },
  {
   "cell_type": "code",
   "execution_count": null,
   "source": [],
   "outputs": [],
   "metadata": {}
  }
 ]
}
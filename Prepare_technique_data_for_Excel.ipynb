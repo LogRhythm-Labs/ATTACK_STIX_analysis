{
 "metadata": {
  "language_info": {
   "codemirror_mode": {
    "name": "ipython",
    "version": 3
   },
   "file_extension": ".py",
   "mimetype": "text/x-python",
   "name": "python",
   "nbconvert_exporter": "python",
   "pygments_lexer": "ipython3",
   "version": "3.7.3-final"
  },
  "orig_nbformat": 2,
  "kernelspec": {
   "name": "Python 3.7.3 64-bit",
   "display_name": "Python 3.7.3 64-bit",
   "metadata": {
    "interpreter": {
     "hash": "e534e48711db4d1e1c48977d0d14ff85b1f16d41bcc4fdfd88268a329b3c9d66"
    }
   }
  }
 },
 "nbformat": 4,
 "nbformat_minor": 2,
 "cells": [
  {
   "source": [
    "# Gather MITRE ATT&CK technique data for analysis\n",
    "### Input: line-separated text file with list of MITRE ATT&CK technique IDs (e.g. T1078)\n",
    "### Output: Excel file with three tabs: Datasource requirements, Platform requirements and Tactic \n"
   ],
   "cell_type": "markdown",
   "metadata": {}
  },
  {
   "source": [
    "### Import required libraries. Define filepath."
   ],
   "cell_type": "markdown",
   "metadata": {}
  },
  {
   "cell_type": "code",
   "execution_count": null,
   "metadata": {},
   "outputs": [],
   "source": [
    "from attackcti import attack_client\n",
    "import json\n",
    "import numpy\n",
    "import pandas as pd\n",
    "import numpy as np\n",
    "import xlsxwriter\n",
    "\n",
    "inputFile = 'inputFile' #Enter the full path and file name of the text file containing the MITRE techniques you would like analyzed\n",
    "outputFile = 'outputFile.xlsx' ##Enter the full path and file name of the Excel (xlsx) file that you would like as output of this script"
   ]
  },
  {
   "source": [
    "### Load the MITRE ATT&CK Enterprise framework"
   ],
   "cell_type": "markdown",
   "metadata": {}
  },
  {
   "cell_type": "code",
   "execution_count": null,
   "metadata": {
    "tags": []
   },
   "outputs": [],
   "source": [
    "lift = attack_client()\n",
    "%time all_enterprise = lift.get_all_enterprise()"
   ]
  },
  {
   "source": [
    "### Read list of techniques from a file"
   ],
   "cell_type": "markdown",
   "metadata": {}
  },
  {
   "cell_type": "code",
   "execution_count": null,
   "metadata": {},
   "outputs": [],
   "source": [
    "techniques = []\n",
    "techniques = [line.rstrip() for line in open(inputFile)]"
   ]
  },
  {
   "cell_type": "code",
   "execution_count": null,
   "metadata": {
    "tags": []
   },
   "outputs": [],
   "source": [
    "print(techniques)"
   ]
  },
  {
   "source": [
    "### Generate a list of Datasource requirements for each technique"
   ],
   "cell_type": "markdown",
   "metadata": {}
  },
  {
   "cell_type": "code",
   "execution_count": null,
   "metadata": {},
   "outputs": [],
   "source": [
    "dataSourceAnalysis = []\n",
    "for technique in techniques:\n",
    "    for t in all_enterprise['techniques']:\n",
    "        if t['external_references'][0]['external_id'] == technique:\n",
    "                for source in t['x_mitre_data_sources']:\n",
    "                    techniqueListItem = {} \n",
    "                    techniqueListItem['ID'] = t['external_references'][0]['external_id']\n",
    "                    techniqueListItem['Name'] = t['name']\n",
    "                    techniqueListItem['DataSource'] = source\n",
    "                    dataSourceAnalysis.append(techniqueListItem)"
   ]
  },
  {
   "source": [
    "### Load the list of datasources into a dataframe"
   ],
   "cell_type": "markdown",
   "metadata": {}
  },
  {
   "cell_type": "code",
   "execution_count": null,
   "metadata": {},
   "outputs": [],
   "source": [
    "dataSources = pd.DataFrame(dataSourceAnalysis)"
   ]
  },
  {
   "source": [
    "### Verify that dataframe is populated by reviewing counts of datasources"
   ],
   "cell_type": "markdown",
   "metadata": {}
  },
  {
   "source": [
    "dataSources['DataSource'].value_counts()\n"
   ],
   "cell_type": "code",
   "metadata": {},
   "execution_count": null,
   "outputs": []
  },
  {
   "source": [
    "### Generate a list of tactics for each technique"
   ],
   "cell_type": "markdown",
   "metadata": {}
  },
  {
   "cell_type": "code",
   "execution_count": null,
   "metadata": {},
   "outputs": [],
   "source": [
    "tacticAnalysis = []\n",
    "for technique in techniques:\n",
    "    for t in all_enterprise['techniques']:\n",
    "        if t['external_references'][0]['external_id'] == technique:\n",
    "                for tactic in t['kill_chain_phases']:\n",
    "                    techniqueListItem = {} \n",
    "                    techniqueListItem['ID'] = t['external_references'][0]['external_id']\n",
    "                    techniqueListItem['Name'] = t['name']\n",
    "                    techniqueListItem['Tactic'] = tactic['phase_name']\n",
    "                    tacticAnalysis.append(techniqueListItem)"
   ]
  },
  {
   "source": [
    "### Load the tactic list into a dataframe"
   ],
   "cell_type": "markdown",
   "metadata": {}
  },
  {
   "cell_type": "code",
   "execution_count": null,
   "metadata": {
    "tags": []
   },
   "outputs": [],
   "source": [
    "tactics = pd.DataFrame(tacticAnalysis)"
   ]
  },
  {
   "source": [
    "### Confirm the dataframe is populated by reviewing per-tactic counts"
   ],
   "cell_type": "markdown",
   "metadata": {}
  },
  {
   "cell_type": "code",
   "execution_count": null,
   "metadata": {},
   "outputs": [],
   "source": [
    "tactics['Tactic'].value_counts()\n"
   ]
  },
  {
   "source": [
    "### Generate a list of platform requirements for each technique"
   ],
   "cell_type": "markdown",
   "metadata": {}
  },
  {
   "cell_type": "code",
   "execution_count": null,
   "metadata": {},
   "outputs": [],
   "source": [
    "platformAnalysis = []\n",
    "for technique in techniques:\n",
    "    for t in all_enterprise['techniques']:\n",
    "        if t['external_references'][0]['external_id'] == technique:\n",
    "                for platform in t['x_mitre_platforms']:\n",
    "                    techniqueListItem = {} \n",
    "                    techniqueListItem['ID'] = t['external_references'][0]['external_id']\n",
    "                    techniqueListItem['Name'] = t['name']\n",
    "                    techniqueListItem['Platform'] = platform\n",
    "                    platformAnalysis.append(techniqueListItem)"
   ]
  },
  {
   "source": [
    "### Load the platforms list into a dataframe"
   ],
   "cell_type": "markdown",
   "metadata": {}
  },
  {
   "cell_type": "code",
   "execution_count": null,
   "metadata": {},
   "outputs": [],
   "source": [
    "platforms = pd.DataFrame(platformAnalysis)"
   ]
  },
  {
   "source": [
    "### Confirm the dataframe is populated by reviewing the per-platform count"
   ],
   "cell_type": "markdown",
   "metadata": {}
  },
  {
   "cell_type": "code",
   "execution_count": null,
   "metadata": {},
   "outputs": [],
   "source": [
    "platforms['Platform'].value_counts()"
   ]
  },
  {
   "source": [
    "### Write out the Datasource, Tactic and Platforms dataframes into an Excel workbook"
   ],
   "cell_type": "markdown",
   "metadata": {}
  },
  {
   "cell_type": "code",
   "execution_count": null,
   "metadata": {},
   "outputs": [],
   "source": [
    "with pd.ExcelWriter(outputFile) as writer:\n",
    "    dataSources.to_excel(writer, sheet_name='Data Sources')\n",
    "    tactics.to_excel(writer, sheet_name='Tactics')\n",
    "    platforms.to_excel(writer, sheet_name='Platforms')"
   ]
  },
  {
   "cell_type": "code",
   "execution_count": null,
   "metadata": {},
   "outputs": [],
   "source": []
  }
 ]
}